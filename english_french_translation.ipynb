{
  "cells": [
    {
      "attachments": {},
      "cell_type": "markdown",
      "metadata": {},
      "source": [
        "# English and French Dual Translation with RNN"
      ]
    },
    {
      "cell_type": "code",
      "execution_count": 1,
      "metadata": {
        "id": "0o7KvEfdDv6s"
      },
      "outputs": [],
      "source": [
        "import nltk\n",
        "import re\n",
        "import requests\n",
        "\n",
        "import functools as F\n",
        "import matplotlib.pyplot as plt\n",
        "import numpy as np\n",
        "import pandas as pd\n",
        "import tensorflow as tf\n",
        "\n",
        "from sklearn.model_selection import train_test_split\n",
        "from typing import *"
      ]
    },
    {
      "cell_type": "code",
      "execution_count": 2,
      "metadata": {
        "id": "Wf6mgBTtIPl6"
      },
      "outputs": [],
      "source": [
        "class Tokenizer:\n",
        "    __slots__ = [\n",
        "          'vocab_w'\n",
        "        , 'vocab_i'\n",
        "        , 'padder_w'\n",
        "        , 'padder_i'\n",
        "        , 'oov_w'\n",
        "        , 'oov_i'\n",
        "    ]\n",
        "\n",
        "    def __init__(self, words: pd.Series):\n",
        "        padder = '__PADDER__'\n",
        "        oov = '__OOV__'\n",
        "        w = pd.concat([words, pd.Series([padder, oov])])\n",
        "\n",
        "        self.vocab_w = {x: i for i, x in enumerate(set(w))}\n",
        "        self.vocab_i = {i: x for i, x in enumerate(set(w))}\n",
        "\n",
        "        self.padder_w = padder\n",
        "        self.padder_i = self.vocab_w[padder]\n",
        "\n",
        "        self.oov_w = oov\n",
        "        self.oov_i = self.vocab_w[oov]"
      ]
    },
    {
      "cell_type": "code",
      "execution_count": 3,
      "metadata": {
        "id": "MU7HcaRDJjSL"
      },
      "outputs": [],
      "source": [
        "def build_data(df: pd.DataFrame, col: str, tokens: Tokenizer) -> np.array:\n",
        "    '''\n",
        "    Build a tokenized 2D array from the specified column of words\n",
        "    \n",
        "    df: pandas dataframe containing a sentence column and word count column\n",
        "    col: name of the column to extract the words from\n",
        "    tokens: tokenizer used to transform the text into integers\n",
        "    '''\n",
        "    count = f'{col}Count'\n",
        "\n",
        "    matrix = np.zeros((df.shape[0], df[count].max()))\n",
        "\n",
        "    for i1, row in df.reset_index().iterrows():\n",
        "        for i2 in range(matrix.shape[1]):\n",
        "            if i2 < row[count]:\n",
        "                if tokens.vocab_w.get(row[col][i2]):\n",
        "                    matrix[i1, i2] = tokens.vocab_w[row[col][i2]]\n",
        "                else:\n",
        "                    matrix[i1, i2] = tokens.oov_i\n",
        "            else:\n",
        "                matrix[i1, i2] = tokens.padder_i\n",
        "                \n",
        "    return matrix\n",
        "\n",
        "\n",
        "def build_dataframe(en_url: str, fr_url: str) -> pd.DataFrame:\n",
        "    '''\n",
        "    Build a dataframe containing english and french translations of text and a word count for each translation\n",
        "    \n",
        "    en_url: url to the raw english text data\n",
        "    fr_url: url to the raw french text data\n",
        "    '''\n",
        "    return pd.DataFrame({\n",
        "          'En': get_data(en_url)\n",
        "        , 'Fr': get_data(fr_url)\n",
        "    }).assign(\n",
        "          EnCount = lambda df: df.En.map(len)\n",
        "        , FrCount = lambda df: df.Fr.map(len)\n",
        "    ).query('En != Fr')\n",
        "\n",
        "\n",
        "def build_model(x_shape: int, y_shape: int, dim_input: int, dim_output: int, dim_embedding: int = 64) -> tf.keras.Model:\n",
        "    '''\n",
        "    Build a tensorflow RNN with encoding and decoding for text translation\n",
        "    \n",
        "    x_shape: the padded length of the input text\n",
        "    y_shape: the padded length of the output text\n",
        "    dim_input: size of the vocabulary of the input text\n",
        "    dim_output: size of the vocabulary of the output text\n",
        "    dim_embedding: size of the context embedding (default: 64)\n",
        "    '''\n",
        "    return tf.keras.Sequential([\n",
        "        # Embedding\n",
        "          tf.keras.layers.Embedding(\n",
        "              input_dim = dim_input\n",
        "            , output_dim = dim_embedding\n",
        "            , input_length = x_shape\n",
        "        )\n",
        "\n",
        "        # Encoder\n",
        "        , tf.keras.layers.Bidirectional(tf.keras.layers.LSTM(\n",
        "              units = dim_embedding\n",
        "        ))\n",
        "        , tf.keras.layers.RepeatVector(y_shape)\n",
        "\n",
        "        # Decoder\n",
        "        , tf.keras.layers.Bidirectional(tf.keras.layers.LSTM(\n",
        "              units = dim_embedding\n",
        "            , return_sequences = True\n",
        "        ))\n",
        "        , tf.keras.layers.TimeDistributed(tf.keras.layers.Dense(\n",
        "              units = 128\n",
        "            , activation = 'relu'\n",
        "        ))\n",
        "        , tf.keras.layers.Dropout(0.2)\n",
        "\n",
        "        # Output\n",
        "        , tf.keras.layers.TimeDistributed(tf.keras.layers.Dense(\n",
        "              units = dim_output\n",
        "            , activation = 'softmax'\n",
        "        ))\n",
        "    ])\n",
        "\n",
        "\n",
        "def build_string(array: np.array, tokens: Tokenizer) -> str:\n",
        "    '''\n",
        "    Build a printable string of a tokenized output\n",
        "    \n",
        "    array: output contianing tokenized words\n",
        "    tokens: tokenizer used to convert the output to text\n",
        "    '''\n",
        "    unpad = np.delete(array, np.argwhere(array == tokens.padder_i))\n",
        "    words = [tokens.vocab_i[y] for y in unpad]\n",
        "    return str.join(' ', words)\n",
        "\n",
        "\n",
        "def clean_text(text: str) -> str:\n",
        "    '''\n",
        "    Cleans raw text data for use in text translation\n",
        "    \n",
        "    text: text string to be cleaned\n",
        "    '''\n",
        "    patterns = [\n",
        "        # space out punctuation\n",
        "        (r'([a-zA-Z0-9])([,;.!?]+)', r'\\1 \\2')\n",
        "    ]\n",
        "\n",
        "    return F.reduce(\n",
        "          lambda text, pattern: re.sub(pattern[0], pattern[1], text)\n",
        "        , patterns\n",
        "        , text.lower()\n",
        "    )\n",
        "\n",
        "\n",
        "def get_data(url: str) -> List[str]:\n",
        "    '''\n",
        "    Retrieves, cleans, and formats raw text data for use in text translation\n",
        "    \n",
        "    url: url to retrieve the data\n",
        "    '''\n",
        "    for sentence in requests.get(url).text.split('\\n')[:-1]:\n",
        "        yield clean_text(sentence).split()\n",
        "\n",
        "\n",
        "def get_similarity(s1: np.array, s2: np.array) -> float:\n",
        "    '''\n",
        "    Get the cosine similarity between two strings of text\n",
        "    '''\n",
        "    ws = list(set(np.concatenate([s1, s2])))\n",
        "\n",
        "    v1 = np.zeros(len(ws))\n",
        "    v2 = np.zeros(len(ws))\n",
        "\n",
        "    for w in s1:\n",
        "        v1[ws.index(w)] += 1\n",
        "\n",
        "    for w in s2:\n",
        "        v2[ws.index(w)] += 1\n",
        "\n",
        "    return 1 - nltk.cluster.util.cosine_distance(v1, v2)\n",
        "\n",
        "\n",
        "def show_prediction(model: tf.keras.Model, x_test: np.array, y_tokens: Tokenizer, y_test: None) -> np.array:\n",
        "    '''\n",
        "    Prints the translation of a given text by the given model\n",
        "    \n",
        "    model: tensorflow model to use for translation\n",
        "    x_test: text to translate\n",
        "    y_tokens: tokenizer used to convert the translated output to text\n",
        "    y_test: the actual translation, if given, to be used for comparison \n",
        "        and to calculate similarity between the true translation and the model's translation\n",
        "    '''\n",
        "    y_pred = np.argmax(model.predict(x_test)[0], axis = 1)\n",
        "\n",
        "    print_pred = build_string(y_pred, y_tokens)\n",
        "    print(f'Pred: {print_pred}')\n",
        "    \n",
        "    if y_test is not None:\n",
        "        print_test = build_string(y_test, y_tokens)\n",
        "        similarity = get_similarity(y_pred, y_test) * 100\n",
        "        print(f'Test: {print_test}')\n",
        "        print(f'{str.format(\"{:.4f}\", similarity).rstrip(\"0\")}% ** Similarity includes padding. Short sentences may have slightly inflated scores. **')\n",
        "\n",
        "    return y_pred\n",
        "\n",
        "\n",
        "def plot_fit(fit):\n",
        "    '''\n",
        "    Plots a tensorflow fit's history\n",
        "    '''\n",
        "    pd.DataFrame(fit.history).plot(figsize = (8, 5))\n",
        "    plt.grid(True)\n",
        "    plt.gca().set_ylim(0, 1)\n",
        "    plt.show()"
      ]
    },
    {
      "attachments": {},
      "cell_type": "markdown",
      "metadata": {},
      "source": [
        "### Get the training data contianing English and French translations of text\n",
        "\n",
        "### It is worth noting that this corpus has a relatively small vocabulary, which will make training easier for the sake of learning machine translation but this will also lead to issues when trying it on new data."
      ]
    },
    {
      "cell_type": "code",
      "execution_count": 4,
      "metadata": {
        "colab": {
          "base_uri": "https://localhost:8080/",
          "height": 468
        },
        "id": "JFSLp-4jIRmd",
        "outputId": "a013e7f3-725e-4125-c001-0f8ea8dd6c0e"
      },
      "outputs": [
        {
          "data": {
            "text/html": [
              "\n",
              "  <div id=\"df-db670811-3abd-42cb-b3ad-6082d7d819cc\">\n",
              "    <div class=\"colab-df-container\">\n",
              "      <div>\n",
              "<style scoped>\n",
              "    .dataframe tbody tr th:only-of-type {\n",
              "        vertical-align: middle;\n",
              "    }\n",
              "\n",
              "    .dataframe tbody tr th {\n",
              "        vertical-align: top;\n",
              "    }\n",
              "\n",
              "    .dataframe thead th {\n",
              "        text-align: right;\n",
              "    }\n",
              "</style>\n",
              "<table border=\"1\" class=\"dataframe\">\n",
              "  <thead>\n",
              "    <tr style=\"text-align: right;\">\n",
              "      <th></th>\n",
              "      <th>En</th>\n",
              "      <th>Fr</th>\n",
              "      <th>EnCount</th>\n",
              "      <th>FrCount</th>\n",
              "    </tr>\n",
              "  </thead>\n",
              "  <tbody>\n",
              "    <tr>\n",
              "      <th>0</th>\n",
              "      <td>[new, jersey, is, sometimes, quiet, during, au...</td>\n",
              "      <td>[new, jersey, est, parfois, calme, pendant, l'...</td>\n",
              "      <td>15</td>\n",
              "      <td>16</td>\n",
              "    </tr>\n",
              "    <tr>\n",
              "      <th>1</th>\n",
              "      <td>[the, united, states, is, usually, chilly, dur...</td>\n",
              "      <td>[les, états-unis, est, généralement, froid, en...</td>\n",
              "      <td>17</td>\n",
              "      <td>15</td>\n",
              "    </tr>\n",
              "    <tr>\n",
              "      <th>2</th>\n",
              "      <td>[california, is, usually, quiet, during, march...</td>\n",
              "      <td>[california, est, généralement, calme, en, mar...</td>\n",
              "      <td>15</td>\n",
              "      <td>15</td>\n",
              "    </tr>\n",
              "    <tr>\n",
              "      <th>3</th>\n",
              "      <td>[the, united, states, is, sometimes, mild, dur...</td>\n",
              "      <td>[les, états-unis, est, parfois, légère, en, ju...</td>\n",
              "      <td>16</td>\n",
              "      <td>15</td>\n",
              "    </tr>\n",
              "    <tr>\n",
              "      <th>4</th>\n",
              "      <td>[your, least, liked, fruit, is, the, grape, ,,...</td>\n",
              "      <td>[votre, moins, aimé, fruit, est, le, raisin, ,...</td>\n",
              "      <td>16</td>\n",
              "      <td>16</td>\n",
              "    </tr>\n",
              "    <tr>\n",
              "      <th>...</th>\n",
              "      <td>...</td>\n",
              "      <td>...</td>\n",
              "      <td>...</td>\n",
              "      <td>...</td>\n",
              "    </tr>\n",
              "    <tr>\n",
              "      <th>137855</th>\n",
              "      <td>[france, is, never, busy, during, march, ,, an...</td>\n",
              "      <td>[la, france, est, jamais, occupée, en, mars, ,...</td>\n",
              "      <td>15</td>\n",
              "      <td>16</td>\n",
              "    </tr>\n",
              "    <tr>\n",
              "      <th>137856</th>\n",
              "      <td>[india, is, sometimes, beautiful, during, spri...</td>\n",
              "      <td>[l', inde, est, parfois, belle, au, printemps,...</td>\n",
              "      <td>14</td>\n",
              "      <td>15</td>\n",
              "    </tr>\n",
              "    <tr>\n",
              "      <th>137857</th>\n",
              "      <td>[india, is, never, wet, during, summer, ,, but...</td>\n",
              "      <td>[l', inde, est, jamais, mouillé, pendant, l', ...</td>\n",
              "      <td>15</td>\n",
              "      <td>17</td>\n",
              "    </tr>\n",
              "    <tr>\n",
              "      <th>137858</th>\n",
              "      <td>[france, is, never, chilly, during, january, ,...</td>\n",
              "      <td>[la, france, est, jamais, froid, en, janvier, ...</td>\n",
              "      <td>15</td>\n",
              "      <td>16</td>\n",
              "    </tr>\n",
              "    <tr>\n",
              "      <th>137859</th>\n",
              "      <td>[the, orange, is, her, favorite, fruit, ,, but...</td>\n",
              "      <td>[l'orange, est, son, fruit, préféré, ,, mais, ...</td>\n",
              "      <td>14</td>\n",
              "      <td>13</td>\n",
              "    </tr>\n",
              "  </tbody>\n",
              "</table>\n",
              "<p>137860 rows × 4 columns</p>\n",
              "</div>\n",
              "      <button class=\"colab-df-convert\" onclick=\"convertToInteractive('df-db670811-3abd-42cb-b3ad-6082d7d819cc')\"\n",
              "              title=\"Convert this dataframe to an interactive table.\"\n",
              "              style=\"display:none;\">\n",
              "        \n",
              "  <svg xmlns=\"http://www.w3.org/2000/svg\" height=\"24px\"viewBox=\"0 0 24 24\"\n",
              "       width=\"24px\">\n",
              "    <path d=\"M0 0h24v24H0V0z\" fill=\"none\"/>\n",
              "    <path d=\"M18.56 5.44l.94 2.06.94-2.06 2.06-.94-2.06-.94-.94-2.06-.94 2.06-2.06.94zm-11 1L8.5 8.5l.94-2.06 2.06-.94-2.06-.94L8.5 2.5l-.94 2.06-2.06.94zm10 10l.94 2.06.94-2.06 2.06-.94-2.06-.94-.94-2.06-.94 2.06-2.06.94z\"/><path d=\"M17.41 7.96l-1.37-1.37c-.4-.4-.92-.59-1.43-.59-.52 0-1.04.2-1.43.59L10.3 9.45l-7.72 7.72c-.78.78-.78 2.05 0 2.83L4 21.41c.39.39.9.59 1.41.59.51 0 1.02-.2 1.41-.59l7.78-7.78 2.81-2.81c.8-.78.8-2.07 0-2.86zM5.41 20L4 18.59l7.72-7.72 1.47 1.35L5.41 20z\"/>\n",
              "  </svg>\n",
              "      </button>\n",
              "      \n",
              "  <style>\n",
              "    .colab-df-container {\n",
              "      display:flex;\n",
              "      flex-wrap:wrap;\n",
              "      gap: 12px;\n",
              "    }\n",
              "\n",
              "    .colab-df-convert {\n",
              "      background-color: #E8F0FE;\n",
              "      border: none;\n",
              "      border-radius: 50%;\n",
              "      cursor: pointer;\n",
              "      display: none;\n",
              "      fill: #1967D2;\n",
              "      height: 32px;\n",
              "      padding: 0 0 0 0;\n",
              "      width: 32px;\n",
              "    }\n",
              "\n",
              "    .colab-df-convert:hover {\n",
              "      background-color: #E2EBFA;\n",
              "      box-shadow: 0px 1px 2px rgba(60, 64, 67, 0.3), 0px 1px 3px 1px rgba(60, 64, 67, 0.15);\n",
              "      fill: #174EA6;\n",
              "    }\n",
              "\n",
              "    [theme=dark] .colab-df-convert {\n",
              "      background-color: #3B4455;\n",
              "      fill: #D2E3FC;\n",
              "    }\n",
              "\n",
              "    [theme=dark] .colab-df-convert:hover {\n",
              "      background-color: #434B5C;\n",
              "      box-shadow: 0px 1px 3px 1px rgba(0, 0, 0, 0.15);\n",
              "      filter: drop-shadow(0px 1px 2px rgba(0, 0, 0, 0.3));\n",
              "      fill: #FFFFFF;\n",
              "    }\n",
              "  </style>\n",
              "\n",
              "      <script>\n",
              "        const buttonEl =\n",
              "          document.querySelector('#df-db670811-3abd-42cb-b3ad-6082d7d819cc button.colab-df-convert');\n",
              "        buttonEl.style.display =\n",
              "          google.colab.kernel.accessAllowed ? 'block' : 'none';\n",
              "\n",
              "        async function convertToInteractive(key) {\n",
              "          const element = document.querySelector('#df-db670811-3abd-42cb-b3ad-6082d7d819cc');\n",
              "          const dataTable =\n",
              "            await google.colab.kernel.invokeFunction('convertToInteractive',\n",
              "                                                     [key], {});\n",
              "          if (!dataTable) return;\n",
              "\n",
              "          const docLinkHtml = 'Like what you see? Visit the ' +\n",
              "            '<a target=\"_blank\" href=https://colab.research.google.com/notebooks/data_table.ipynb>data table notebook</a>'\n",
              "            + ' to learn more about interactive tables.';\n",
              "          element.innerHTML = '';\n",
              "          dataTable['output_type'] = 'display_data';\n",
              "          await google.colab.output.renderOutput(dataTable, element);\n",
              "          const docLink = document.createElement('div');\n",
              "          docLink.innerHTML = docLinkHtml;\n",
              "          element.appendChild(docLink);\n",
              "        }\n",
              "      </script>\n",
              "    </div>\n",
              "  </div>\n",
              "  "
            ],
            "text/plain": [
              "                                                       En  \\\n",
              "0       [new, jersey, is, sometimes, quiet, during, au...   \n",
              "1       [the, united, states, is, usually, chilly, dur...   \n",
              "2       [california, is, usually, quiet, during, march...   \n",
              "3       [the, united, states, is, sometimes, mild, dur...   \n",
              "4       [your, least, liked, fruit, is, the, grape, ,,...   \n",
              "...                                                   ...   \n",
              "137855  [france, is, never, busy, during, march, ,, an...   \n",
              "137856  [india, is, sometimes, beautiful, during, spri...   \n",
              "137857  [india, is, never, wet, during, summer, ,, but...   \n",
              "137858  [france, is, never, chilly, during, january, ,...   \n",
              "137859  [the, orange, is, her, favorite, fruit, ,, but...   \n",
              "\n",
              "                                                       Fr  EnCount  FrCount  \n",
              "0       [new, jersey, est, parfois, calme, pendant, l'...       15       16  \n",
              "1       [les, états-unis, est, généralement, froid, en...       17       15  \n",
              "2       [california, est, généralement, calme, en, mar...       15       15  \n",
              "3       [les, états-unis, est, parfois, légère, en, ju...       16       15  \n",
              "4       [votre, moins, aimé, fruit, est, le, raisin, ,...       16       16  \n",
              "...                                                   ...      ...      ...  \n",
              "137855  [la, france, est, jamais, occupée, en, mars, ,...       15       16  \n",
              "137856  [l', inde, est, parfois, belle, au, printemps,...       14       15  \n",
              "137857  [l', inde, est, jamais, mouillé, pendant, l', ...       15       17  \n",
              "137858  [la, france, est, jamais, froid, en, janvier, ...       15       16  \n",
              "137859  [l'orange, est, son, fruit, préféré, ,, mais, ...       14       13  \n",
              "\n",
              "[137860 rows x 4 columns]"
            ]
          },
          "execution_count": 4,
          "metadata": {},
          "output_type": "execute_result"
        }
      ],
      "source": [
        "df = build_dataframe(\n",
        "      en_url = 'https://raw.githubusercontent.com/tommytracey/AIND-Capstone/master/data/small_vocab_en'\n",
        "    , fr_url = 'https://raw.githubusercontent.com/tommytracey/AIND-Capstone/master/data/small_vocab_fr'\n",
        ")\n",
        "\n",
        "df"
      ]
    },
    {
      "attachments": {},
      "cell_type": "markdown",
      "metadata": {},
      "source": [
        "### Create tokens for both languages"
      ]
    },
    {
      "cell_type": "code",
      "execution_count": 5,
      "metadata": {
        "colab": {
          "base_uri": "https://localhost:8080/"
        },
        "id": "S4ig_GzjKJ6e",
        "outputId": "26103b3d-a101-449d-a2e9-6354391d1be5"
      },
      "outputs": [
        {
          "data": {
            "text/plain": [
              "(204, 356)"
            ]
          },
          "execution_count": 5,
          "metadata": {},
          "output_type": "execute_result"
        }
      ],
      "source": [
        "en_tokens = Tokenizer(df.En.explode())\n",
        "fr_tokens = Tokenizer(df.Fr.explode())\n",
        "\n",
        "len(en_tokens.vocab_w), len(fr_tokens.vocab_w)"
      ]
    },
    {
      "attachments": {},
      "cell_type": "markdown",
      "metadata": {},
      "source": [
        "### Use tokens to create TensorFlow friendly arrays"
      ]
    },
    {
      "cell_type": "code",
      "execution_count": 6,
      "metadata": {
        "colab": {
          "base_uri": "https://localhost:8080/"
        },
        "id": "I2D2JU1KLjEe",
        "outputId": "90179f10-2d35-4ae1-ad84-82b9d0f8d58b"
      },
      "outputs": [
        {
          "data": {
            "text/plain": [
              "((137860, 17), (137860, 23))"
            ]
          },
          "execution_count": 6,
          "metadata": {},
          "output_type": "execute_result"
        }
      ],
      "source": [
        "en = build_data(df, 'En', en_tokens)\n",
        "fr = build_data(df, 'Fr', fr_tokens)\n",
        "\n",
        "en.shape, fr.shape"
      ]
    },
    {
      "cell_type": "code",
      "execution_count": 7,
      "metadata": {
        "colab": {
          "base_uri": "https://localhost:8080/"
        },
        "id": "DM9cBKIpP_ET",
        "outputId": "e7576a48-d665-4d10-e80a-cf56c2bc1fee"
      },
      "outputs": [
        {
          "data": {
            "text/plain": [
              "(array([152., 122., 156., 125.,  51., 140., 126., 170.,  89.,  50., 156.,\n",
              "        161.,  78., 136.,  94., 112., 112.]),\n",
              " array([145., 232.,  35.,  89., 293.,  95., 335., 284., 334., 343.,  12.,\n",
              "         35., 240., 113., 126., 217., 226., 226., 226., 226., 226., 226.,\n",
              "        226.]))"
            ]
          },
          "execution_count": 7,
          "metadata": {},
          "output_type": "execute_result"
        }
      ],
      "source": [
        "en[0], fr[0]"
      ]
    },
    {
      "cell_type": "code",
      "execution_count": 8,
      "metadata": {
        "id": "bpTYINRrQGzP"
      },
      "outputs": [],
      "source": [
        "np.random.seed(11)\n",
        "tf.random.set_seed(11)"
      ]
    },
    {
      "attachments": {},
      "cell_type": "markdown",
      "metadata": {},
      "source": [
        "### Build a model for English to French Translation"
      ]
    },
    {
      "cell_type": "code",
      "execution_count": 9,
      "metadata": {
        "colab": {
          "base_uri": "https://localhost:8080/"
        },
        "id": "mB2bAcQuU4W6",
        "outputId": "75f06652-d98d-4dc6-8db5-6e9c6afc5807"
      },
      "outputs": [
        {
          "name": "stdout",
          "output_type": "stream",
          "text": [
            "Model: \"sequential\"\n",
            "_________________________________________________________________\n",
            " Layer (type)                Output Shape              Param #   \n",
            "=================================================================\n",
            " embedding (Embedding)       (None, 17, 64)            13056     \n",
            "                                                                 \n",
            " bidirectional (Bidirectiona  (None, 128)              66048     \n",
            " l)                                                              \n",
            "                                                                 \n",
            " repeat_vector (RepeatVector  (None, 23, 128)          0         \n",
            " )                                                               \n",
            "                                                                 \n",
            " bidirectional_1 (Bidirectio  (None, 23, 128)          98816     \n",
            " nal)                                                            \n",
            "                                                                 \n",
            " time_distributed (TimeDistr  (None, 23, 128)          16512     \n",
            " ibuted)                                                         \n",
            "                                                                 \n",
            " dropout (Dropout)           (None, 23, 128)           0         \n",
            "                                                                 \n",
            " time_distributed_1 (TimeDis  (None, 23, 356)          45924     \n",
            " tributed)                                                       \n",
            "                                                                 \n",
            "=================================================================\n",
            "Total params: 240,356\n",
            "Trainable params: 240,356\n",
            "Non-trainable params: 0\n",
            "_________________________________________________________________\n"
          ]
        }
      ],
      "source": [
        "model_en_fr = build_model(\n",
        "      x_shape = en.shape[1]\n",
        "    , y_shape = fr.shape[1]\n",
        "    , dim_input = len(en_tokens.vocab_w)\n",
        "    , dim_output = len(fr_tokens.vocab_w)\n",
        "    , dim_embedding = 64\n",
        ")\n",
        "\n",
        "model_en_fr.compile(\n",
        "      loss = 'sparse_categorical_crossentropy'\n",
        "    , optimizer = tf.keras.optimizers.Adam(learning_rate = 0.01)\n",
        "    , metrics = ['accuracy']\n",
        ")\n",
        "\n",
        "model_en_fr.summary()"
      ]
    },
    {
      "attachments": {},
      "cell_type": "markdown",
      "metadata": {},
      "source": [
        "### Build a second model for French to English translation"
      ]
    },
    {
      "cell_type": "code",
      "execution_count": 10,
      "metadata": {
        "colab": {
          "base_uri": "https://localhost:8080/"
        },
        "id": "WnNIfhSFAOQz",
        "outputId": "ea4bfcf3-2727-47db-859d-34543667b6e8"
      },
      "outputs": [
        {
          "name": "stdout",
          "output_type": "stream",
          "text": [
            "Model: \"sequential_1\"\n",
            "_________________________________________________________________\n",
            " Layer (type)                Output Shape              Param #   \n",
            "=================================================================\n",
            " embedding_1 (Embedding)     (None, 23, 64)            22784     \n",
            "                                                                 \n",
            " bidirectional_2 (Bidirectio  (None, 128)              66048     \n",
            " nal)                                                            \n",
            "                                                                 \n",
            " repeat_vector_1 (RepeatVect  (None, 17, 128)          0         \n",
            " or)                                                             \n",
            "                                                                 \n",
            " bidirectional_3 (Bidirectio  (None, 17, 128)          98816     \n",
            " nal)                                                            \n",
            "                                                                 \n",
            " time_distributed_2 (TimeDis  (None, 17, 128)          16512     \n",
            " tributed)                                                       \n",
            "                                                                 \n",
            " dropout_1 (Dropout)         (None, 17, 128)           0         \n",
            "                                                                 \n",
            " time_distributed_3 (TimeDis  (None, 17, 204)          26316     \n",
            " tributed)                                                       \n",
            "                                                                 \n",
            "=================================================================\n",
            "Total params: 230,476\n",
            "Trainable params: 230,476\n",
            "Non-trainable params: 0\n",
            "_________________________________________________________________\n"
          ]
        }
      ],
      "source": [
        "model_fr_en = build_model(\n",
        "      x_shape = fr.shape[1]\n",
        "    , y_shape = en.shape[1]\n",
        "    , dim_input = len(fr_tokens.vocab_w)\n",
        "    , dim_output = len(en_tokens.vocab_w)\n",
        "    , dim_embedding = 64\n",
        ")\n",
        "\n",
        "model_fr_en.compile(\n",
        "      loss = 'sparse_categorical_crossentropy'\n",
        "    , optimizer = tf.keras.optimizers.Adam(learning_rate = 0.01)\n",
        "    , metrics = ['accuracy']\n",
        ")\n",
        "\n",
        "model_fr_en.summary()"
      ]
    },
    {
      "cell_type": "code",
      "execution_count": 11,
      "metadata": {
        "id": "WAW33BK6VJN5"
      },
      "outputs": [],
      "source": [
        "callbacks = [\n",
        "      tf.keras.callbacks.EarlyStopping(\n",
        "          monitor = 'val_accuracy'\n",
        "        , patience = 3\n",
        "    )\n",
        "    , tf.keras.callbacks.ReduceLROnPlateau(\n",
        "          monitor = 'val_accuracy'\n",
        "        , factor = 0.7\n",
        "        , patience = 2\n",
        "        , min_lr = 0.001\n",
        "    )\n",
        "]"
      ]
    },
    {
      "attachments": {},
      "cell_type": "markdown",
      "metadata": {},
      "source": [
        "### Train both models"
      ]
    },
    {
      "cell_type": "code",
      "execution_count": 12,
      "metadata": {
        "colab": {
          "base_uri": "https://localhost:8080/",
          "height": 1000
        },
        "id": "qSmjKvO7VQc_",
        "outputId": "dc9b2e1c-5692-4c14-f223-698f86c6c655"
      },
      "outputs": [
        {
          "name": "stdout",
          "output_type": "stream",
          "text": [
            "Epoch 1/25\n",
            "221/221 [==============================] - 19s 38ms/step - loss: 1.9909 - accuracy: 0.5233 - val_loss: 1.1918 - val_accuracy: 0.6601 - lr: 0.0100\n",
            "Epoch 2/25\n",
            "221/221 [==============================] - 6s 25ms/step - loss: 1.0342 - accuracy: 0.6982 - val_loss: 0.7640 - val_accuracy: 0.7704 - lr: 0.0100\n",
            "Epoch 3/25\n",
            "221/221 [==============================] - 4s 19ms/step - loss: 0.6903 - accuracy: 0.7922 - val_loss: 0.5048 - val_accuracy: 0.8487 - lr: 0.0100\n",
            "Epoch 4/25\n",
            "221/221 [==============================] - 4s 20ms/step - loss: 0.4685 - accuracy: 0.8589 - val_loss: 0.3384 - val_accuracy: 0.9018 - lr: 0.0100\n",
            "Epoch 5/25\n",
            "221/221 [==============================] - 4s 20ms/step - loss: 0.3461 - accuracy: 0.8988 - val_loss: 0.2579 - val_accuracy: 0.9274 - lr: 0.0100\n",
            "Epoch 6/25\n",
            "221/221 [==============================] - 4s 19ms/step - loss: 0.2654 - accuracy: 0.9241 - val_loss: 0.2005 - val_accuracy: 0.9448 - lr: 0.0100\n",
            "Epoch 7/25\n",
            "221/221 [==============================] - 5s 22ms/step - loss: 0.2187 - accuracy: 0.9381 - val_loss: 0.1650 - val_accuracy: 0.9524 - lr: 0.0100\n",
            "Epoch 8/25\n",
            "221/221 [==============================] - 4s 20ms/step - loss: 0.1881 - accuracy: 0.9467 - val_loss: 0.1526 - val_accuracy: 0.9587 - lr: 0.0100\n",
            "Epoch 9/25\n",
            "221/221 [==============================] - 4s 20ms/step - loss: 0.1998 - accuracy: 0.9435 - val_loss: 0.1565 - val_accuracy: 0.9564 - lr: 0.0100\n",
            "Epoch 10/25\n",
            "221/221 [==============================] - 4s 20ms/step - loss: 0.1622 - accuracy: 0.9546 - val_loss: 0.1375 - val_accuracy: 0.9609 - lr: 0.0100\n",
            "Epoch 11/25\n",
            "221/221 [==============================] - 4s 19ms/step - loss: 0.1445 - accuracy: 0.9592 - val_loss: 0.1296 - val_accuracy: 0.9643 - lr: 0.0100\n",
            "Epoch 12/25\n",
            "221/221 [==============================] - 4s 20ms/step - loss: 0.1250 - accuracy: 0.9646 - val_loss: 0.1113 - val_accuracy: 0.9708 - lr: 0.0100\n",
            "Epoch 13/25\n",
            "221/221 [==============================] - 4s 20ms/step - loss: 0.1267 - accuracy: 0.9648 - val_loss: 0.1406 - val_accuracy: 0.9612 - lr: 0.0100\n",
            "Epoch 14/25\n",
            "221/221 [==============================] - 4s 20ms/step - loss: 0.1369 - accuracy: 0.9618 - val_loss: 0.1205 - val_accuracy: 0.9689 - lr: 0.0100\n",
            "Epoch 15/25\n",
            "221/221 [==============================] - 4s 20ms/step - loss: 0.0990 - accuracy: 0.9724 - val_loss: 0.0910 - val_accuracy: 0.9761 - lr: 0.0070\n",
            "Epoch 16/25\n",
            "221/221 [==============================] - 4s 20ms/step - loss: 0.0891 - accuracy: 0.9749 - val_loss: 0.0886 - val_accuracy: 0.9773 - lr: 0.0070\n",
            "Epoch 17/25\n",
            "221/221 [==============================] - 4s 20ms/step - loss: 0.0815 - accuracy: 0.9769 - val_loss: 0.0875 - val_accuracy: 0.9774 - lr: 0.0070\n",
            "Epoch 18/25\n",
            "221/221 [==============================] - 4s 20ms/step - loss: 0.0908 - accuracy: 0.9745 - val_loss: 0.1008 - val_accuracy: 0.9728 - lr: 0.0070\n",
            "Epoch 19/25\n",
            "221/221 [==============================] - 5s 21ms/step - loss: 0.0834 - accuracy: 0.9764 - val_loss: 0.0924 - val_accuracy: 0.9777 - lr: 0.0070\n",
            "Epoch 20/25\n",
            "221/221 [==============================] - 4s 20ms/step - loss: 0.0775 - accuracy: 0.9778 - val_loss: 0.0886 - val_accuracy: 0.9768 - lr: 0.0070\n",
            "Epoch 21/25\n",
            "221/221 [==============================] - 4s 20ms/step - loss: 0.0803 - accuracy: 0.9772 - val_loss: 0.0908 - val_accuracy: 0.9759 - lr: 0.0070\n",
            "Epoch 22/25\n",
            "221/221 [==============================] - 4s 20ms/step - loss: 0.0647 - accuracy: 0.9814 - val_loss: 0.0781 - val_accuracy: 0.9808 - lr: 0.0049\n",
            "Epoch 23/25\n",
            "221/221 [==============================] - 4s 20ms/step - loss: 0.0553 - accuracy: 0.9839 - val_loss: 0.0822 - val_accuracy: 0.9813 - lr: 0.0049\n",
            "Epoch 24/25\n",
            "221/221 [==============================] - 4s 20ms/step - loss: 0.0551 - accuracy: 0.9840 - val_loss: 0.0840 - val_accuracy: 0.9810 - lr: 0.0049\n",
            "Epoch 25/25\n",
            "221/221 [==============================] - 4s 20ms/step - loss: 0.0546 - accuracy: 0.9840 - val_loss: 0.0857 - val_accuracy: 0.9809 - lr: 0.0049\n"
          ]
        },
        {
          "data": {
            "image/png": "[encoded data removed]",
            "text/plain": [
              "<Figure size 576x360 with 1 Axes>"
            ]
          },
          "metadata": {
            "needs_background": "light"
          },
          "output_type": "display_data"
        }
      ],
      "source": [
        "fit_en_fr = model_en_fr.fit(\n",
        "      x = en\n",
        "    , y = fr\n",
        "    , validation_split = 0.2\n",
        "    , callbacks = callbacks\n",
        "    , batch_size = 500\n",
        "    , epochs = 25\n",
        ")\n",
        "plot_fit(fit_en_fr)"
      ]
    },
    {
      "cell_type": "code",
      "execution_count": 13,
      "metadata": {
        "colab": {
          "base_uri": "https://localhost:8080/",
          "height": 1000
        },
        "id": "xhQzOvRZAj6t",
        "outputId": "21f69ec4-eb3d-4353-f1d5-6762c14e69f4"
      },
      "outputs": [
        {
          "name": "stdout",
          "output_type": "stream",
          "text": [
            "Epoch 1/25\n",
            "221/221 [==============================] - 11s 23ms/step - loss: 1.8692 - accuracy: 0.5146 - val_loss: 1.5679 - val_accuracy: 0.5443 - lr: 0.0100\n",
            "Epoch 2/25\n",
            "221/221 [==============================] - 4s 16ms/step - loss: 0.9299 - accuracy: 0.6827 - val_loss: 0.6997 - val_accuracy: 0.7388 - lr: 0.0100\n",
            "Epoch 3/25\n",
            "221/221 [==============================] - 4s 16ms/step - loss: 0.6665 - accuracy: 0.7506 - val_loss: 0.5627 - val_accuracy: 0.7838 - lr: 0.0100\n",
            "Epoch 4/25\n",
            "221/221 [==============================] - 4s 16ms/step - loss: 0.6211 - accuracy: 0.7700 - val_loss: 0.5213 - val_accuracy: 0.7952 - lr: 0.0100\n",
            "Epoch 5/25\n",
            "221/221 [==============================] - 4s 17ms/step - loss: 0.5026 - accuracy: 0.7994 - val_loss: 0.4374 - val_accuracy: 0.8136 - lr: 0.0100\n",
            "Epoch 6/25\n",
            "221/221 [==============================] - 4s 17ms/step - loss: 0.4348 - accuracy: 0.8221 - val_loss: 0.3666 - val_accuracy: 0.8441 - lr: 0.0100\n",
            "Epoch 7/25\n",
            "221/221 [==============================] - 4s 17ms/step - loss: 0.3563 - accuracy: 0.8542 - val_loss: 0.3043 - val_accuracy: 0.8746 - lr: 0.0100\n",
            "Epoch 8/25\n",
            "221/221 [==============================] - 4s 17ms/step - loss: 0.3128 - accuracy: 0.8729 - val_loss: 0.2484 - val_accuracy: 0.9010 - lr: 0.0100\n",
            "Epoch 9/25\n",
            "221/221 [==============================] - 4s 17ms/step - loss: 0.2596 - accuracy: 0.8944 - val_loss: 0.2131 - val_accuracy: 0.9118 - lr: 0.0100\n",
            "Epoch 10/25\n",
            "221/221 [==============================] - 4s 17ms/step - loss: 0.2195 - accuracy: 0.9085 - val_loss: 0.1614 - val_accuracy: 0.9296 - lr: 0.0100\n",
            "Epoch 11/25\n",
            "221/221 [==============================] - 4s 16ms/step - loss: 0.1671 - accuracy: 0.9243 - val_loss: 0.1169 - val_accuracy: 0.9448 - lr: 0.0100\n",
            "Epoch 12/25\n",
            "221/221 [==============================] - 4s 16ms/step - loss: 0.1334 - accuracy: 0.9372 - val_loss: 0.0951 - val_accuracy: 0.9545 - lr: 0.0100\n",
            "Epoch 13/25\n",
            "221/221 [==============================] - 4s 16ms/step - loss: 0.1184 - accuracy: 0.9441 - val_loss: 0.1028 - val_accuracy: 0.9502 - lr: 0.0100\n",
            "Epoch 14/25\n",
            "221/221 [==============================] - 4s 17ms/step - loss: 0.0954 - accuracy: 0.9571 - val_loss: 0.0518 - val_accuracy: 0.9762 - lr: 0.0100\n",
            "Epoch 15/25\n",
            "221/221 [==============================] - 4s 17ms/step - loss: 0.0667 - accuracy: 0.9689 - val_loss: 0.0464 - val_accuracy: 0.9773 - lr: 0.0100\n",
            "Epoch 16/25\n",
            "221/221 [==============================] - 4s 16ms/step - loss: 0.0579 - accuracy: 0.9723 - val_loss: 0.0395 - val_accuracy: 0.9780 - lr: 0.0100\n",
            "Epoch 17/25\n",
            "221/221 [==============================] - 4s 16ms/step - loss: 0.0534 - accuracy: 0.9741 - val_loss: 0.0411 - val_accuracy: 0.9784 - lr: 0.0100\n",
            "Epoch 18/25\n",
            "221/221 [==============================] - 4s 16ms/step - loss: 0.1036 - accuracy: 0.9615 - val_loss: 0.0496 - val_accuracy: 0.9764 - lr: 0.0100\n",
            "Epoch 19/25\n",
            "221/221 [==============================] - 4s 16ms/step - loss: 0.0526 - accuracy: 0.9745 - val_loss: 0.0357 - val_accuracy: 0.9801 - lr: 0.0100\n",
            "Epoch 20/25\n",
            "221/221 [==============================] - 4s 16ms/step - loss: 0.0438 - accuracy: 0.9777 - val_loss: 0.0348 - val_accuracy: 0.9807 - lr: 0.0100\n",
            "Epoch 21/25\n",
            "221/221 [==============================] - 4s 16ms/step - loss: 0.0414 - accuracy: 0.9785 - val_loss: 0.0326 - val_accuracy: 0.9813 - lr: 0.0100\n",
            "Epoch 22/25\n",
            "221/221 [==============================] - 4s 17ms/step - loss: 0.0789 - accuracy: 0.9686 - val_loss: 0.0803 - val_accuracy: 0.9716 - lr: 0.0100\n",
            "Epoch 23/25\n",
            "221/221 [==============================] - 4s 16ms/step - loss: 0.0592 - accuracy: 0.9730 - val_loss: 0.0345 - val_accuracy: 0.9807 - lr: 0.0100\n",
            "Epoch 24/25\n",
            "221/221 [==============================] - 4s 16ms/step - loss: 0.0382 - accuracy: 0.9794 - val_loss: 0.0318 - val_accuracy: 0.9812 - lr: 0.0070\n"
          ]
        },
        {
          "data": {
            "image/png": "[encoded data removed]",
            "text/plain": [
              "<Figure size 576x360 with 1 Axes>"
            ]
          },
          "metadata": {
            "needs_background": "light"
          },
          "output_type": "display_data"
        }
      ],
      "source": [
        "fit_fr_en = model_fr_en.fit(\n",
        "      x = fr\n",
        "    , y = en\n",
        "    , validation_split = 0.2\n",
        "    , callbacks = callbacks\n",
        "    , batch_size = 500\n",
        "    , epochs = 25\n",
        ")\n",
        "plot_fit(fit_fr_en)"
      ]
    },
    {
      "attachments": {},
      "cell_type": "markdown",
      "metadata": {},
      "source": [
        "### Both of our models achieved high accuray without overfitting on the training data\n",
        "\n",
        "### We can see how our translations compare to the training data. First We will do one of each translation on the same row."
      ]
    },
    {
      "cell_type": "code",
      "execution_count": 14,
      "metadata": {
        "id": "OJHmwFiMO5K9"
      },
      "outputs": [],
      "source": [
        "i_test = 57676 # np.random.randint(0, df.shape[0])"
      ]
    },
    {
      "cell_type": "code",
      "execution_count": 15,
      "metadata": {
        "colab": {
          "base_uri": "https://localhost:8080/"
        },
        "id": "ISMsw-GyCqWO",
        "outputId": "2af93b11-193e-440a-c2e2-70056899f236"
      },
      "outputs": [
        {
          "name": "stdout",
          "output_type": "stream",
          "text": [
            "1/1 [==============================] - 1s 1s/step\n",
            "Pred: china is sometimes hot during november , but it is snowy in december .\n",
            "Test: china is sometimes hot during november , but it is snowy in december .\n",
            "100.% ** Similarity includes padding. Short sentences may have slightly inflated scores. **\n"
          ]
        }
      ],
      "source": [
        "test1_en = show_prediction(\n",
        "      model = model_fr_en\n",
        "    , x_test = fr[i_test: i_test + 1]\n",
        "    , y_tokens = en_tokens\n",
        "    , y_test = en[i_test]\n",
        ")"
      ]
    },
    {
      "cell_type": "code",
      "execution_count": 16,
      "metadata": {
        "colab": {
          "base_uri": "https://localhost:8080/"
        },
        "id": "hpBurOHFDGao",
        "outputId": "792289d8-89f1-4e4b-ddca-7bde8e159d4f"
      },
      "outputs": [
        {
          "name": "stdout",
          "output_type": "stream",
          "text": [
            "1/1 [==============================] - 1s 1s/step\n",
            "Pred: la chine est parfois chaud au mois de novembre , mais il est neigeux en décembre .\n",
            "Test: la chine est parfois chaud au mois de novembre , mais il est neigeux en décembre .\n",
            "100.% ** Similarity includes padding. Short sentences may have slightly inflated scores. **\n"
          ]
        }
      ],
      "source": [
        "test1_fr = show_prediction(\n",
        "      model = model_en_fr\n",
        "    , x_test = en[i_test: i_test + 1]\n",
        "    , y_tokens = fr_tokens\n",
        "    , y_test = fr[i_test]\n",
        ")"
      ]
    },
    {
      "attachments": {},
      "cell_type": "markdown",
      "metadata": {},
      "source": [
        "### Then we can see how the translations we generated translate again. Essentially, will we get a \"telephone game\" effect where errors cascade into more and more errors.\n",
        "\n",
        "### In this case we didn't, however in earlier attempts of training using this row as an example, the English translation of \"hot\" would often be translated as \"warm\", which would cause the second iteration back to French to leave out the word \"la\", exemplifying the telephone effect."
      ]
    },
    {
      "cell_type": "code",
      "execution_count": 17,
      "metadata": {
        "colab": {
          "base_uri": "https://localhost:8080/"
        },
        "id": "uMxShfPPDQzN",
        "outputId": "e0a2156b-2ed2-4bda-d3db-f0b46fb8b2a1"
      },
      "outputs": [
        {
          "name": "stdout",
          "output_type": "stream",
          "text": [
            "1/1 [==============================] - 1s 1s/step\n",
            "Pred: china is sometimes hot during november , but it is snowy in december .\n",
            "Test: china is sometimes hot during november , but it is snowy in december .\n",
            "100.% ** Similarity includes padding. Short sentences may have slightly inflated scores. **\n"
          ]
        }
      ],
      "source": [
        "test2_en = show_prediction(\n",
        "      model = model_fr_en\n",
        "    , x_test = np.array([test1_fr])\n",
        "    , y_tokens = en_tokens\n",
        "    , y_test = en[i_test]\n",
        ")"
      ]
    },
    {
      "cell_type": "code",
      "execution_count": 18,
      "metadata": {
        "colab": {
          "base_uri": "https://localhost:8080/"
        },
        "id": "IxQBgVkhDQrJ",
        "outputId": "4210dab4-f169-4cfb-815f-ca94269d7b77"
      },
      "outputs": [
        {
          "name": "stdout",
          "output_type": "stream",
          "text": [
            "1/1 [==============================] - 1s 1s/step\n",
            "Pred: la chine est parfois chaud au mois de novembre , mais il est neigeux en décembre .\n",
            "Test: la chine est parfois chaud au mois de novembre , mais il est neigeux en décembre .\n",
            "100.% ** Similarity includes padding. Short sentences may have slightly inflated scores. **\n"
          ]
        }
      ],
      "source": [
        "test2_fr = show_prediction(\n",
        "      model = model_en_fr\n",
        "    , x_test = np.array([test1_en])\n",
        "    , y_tokens = fr_tokens\n",
        "    , y_test = fr[i_test]\n",
        ")"
      ]
    },
    {
      "attachments": {},
      "cell_type": "markdown",
      "metadata": {},
      "source": [
        "### Get test data"
      ]
    },
    {
      "cell_type": "code",
      "execution_count": 19,
      "metadata": {
        "colab": {
          "base_uri": "https://localhost:8080/",
          "height": 424
        },
        "id": "e5PDaPdqomNm",
        "outputId": "c6cc8dca-b3a0-4f67-fa0e-75111ffb6751"
      },
      "outputs": [
        {
          "data": {
            "text/html": [
              "\n",
              "  <div id=\"df-4fb604df-51f4-4a29-90d0-a16284313bf3\">\n",
              "    <div class=\"colab-df-container\">\n",
              "      <div>\n",
              "<style scoped>\n",
              "    .dataframe tbody tr th:only-of-type {\n",
              "        vertical-align: middle;\n",
              "    }\n",
              "\n",
              "    .dataframe tbody tr th {\n",
              "        vertical-align: top;\n",
              "    }\n",
              "\n",
              "    .dataframe thead th {\n",
              "        text-align: right;\n",
              "    }\n",
              "</style>\n",
              "<table border=\"1\" class=\"dataframe\">\n",
              "  <thead>\n",
              "    <tr style=\"text-align: right;\">\n",
              "      <th></th>\n",
              "      <th>En</th>\n",
              "      <th>Fr</th>\n",
              "      <th>EnCount</th>\n",
              "      <th>FrCount</th>\n",
              "    </tr>\n",
              "  </thead>\n",
              "  <tbody>\n",
              "    <tr>\n",
              "      <th>1</th>\n",
              "      <td>[as, you, say, .]</td>\n",
              "      <td>[comme, vous, dites, .]</td>\n",
              "      <td>4</td>\n",
              "      <td>4</td>\n",
              "    </tr>\n",
              "    <tr>\n",
              "      <th>2</th>\n",
              "      <td>[i, ve, got, so, much, to, do, today, ,, you, ...</td>\n",
              "      <td>[j'ai, tant, à, faire, aujourd'hui, ,, tu, sai...</td>\n",
              "      <td>18</td>\n",
              "      <td>19</td>\n",
              "    </tr>\n",
              "    <tr>\n",
              "      <th>3</th>\n",
              "      <td>[let's, see, if, anything, happens, quickly, .]</td>\n",
              "      <td>[attendons, de, voir, si, quelque, chose, se, ...</td>\n",
              "      <td>7</td>\n",
              "      <td>10</td>\n",
              "    </tr>\n",
              "    <tr>\n",
              "      <th>4</th>\n",
              "      <td>[this, lift, is, often, breaking, ,]</td>\n",
              "      <td>[cet, ascenseur, se, brise, souvent, ,]</td>\n",
              "      <td>6</td>\n",
              "      <td>6</td>\n",
              "    </tr>\n",
              "    <tr>\n",
              "      <th>5</th>\n",
              "      <td>[i, wish, i, had, climbed, the, stairs]</td>\n",
              "      <td>[j'aimerais, avoir, grimpé, l'escalier, .]</td>\n",
              "      <td>7</td>\n",
              "      <td>5</td>\n",
              "    </tr>\n",
              "    <tr>\n",
              "      <th>...</th>\n",
              "      <td>...</td>\n",
              "      <td>...</td>\n",
              "      <td>...</td>\n",
              "      <td>...</td>\n",
              "    </tr>\n",
              "    <tr>\n",
              "      <th>5743</th>\n",
              "      <td>[he, is, probably, about, to, be, laid, off, b...</td>\n",
              "      <td>[il, est, probablement, sur, le, point, d'être...</td>\n",
              "      <td>12</td>\n",
              "      <td>15</td>\n",
              "    </tr>\n",
              "    <tr>\n",
              "      <th>5744</th>\n",
              "      <td>[for, the, plane, moving, like, that, ?]</td>\n",
              "      <td>[pour, l'avion, bouge, comme, ça, ?]</td>\n",
              "      <td>7</td>\n",
              "      <td>6</td>\n",
              "    </tr>\n",
              "    <tr>\n",
              "      <th>5745</th>\n",
              "      <td>[it's, way, too, heavy, in, there, ,, and, the...</td>\n",
              "      <td>[ça, tangue, beaucoup, trop, là,, et, les, hot...</td>\n",
              "      <td>15</td>\n",
              "      <td>14</td>\n",
              "    </tr>\n",
              "    <tr>\n",
              "      <th>5746</th>\n",
              "      <td>[it's, obvious, they're, trying, to, keep, the...</td>\n",
              "      <td>[ça, se, voit, qu'elles, essaient, de, garder,...</td>\n",
              "      <td>9</td>\n",
              "      <td>9</td>\n",
              "    </tr>\n",
              "    <tr>\n",
              "      <th>5747</th>\n",
              "      <td>[they're, hiding, something, ,, i'm, sure, !]</td>\n",
              "      <td>[elles, nous, cachent, quelque, chose, j'en, s...</td>\n",
              "      <td>7</td>\n",
              "      <td>9</td>\n",
              "    </tr>\n",
              "  </tbody>\n",
              "</table>\n",
              "<p>5690 rows × 4 columns</p>\n",
              "</div>\n",
              "      <button class=\"colab-df-convert\" onclick=\"convertToInteractive('df-4fb604df-51f4-4a29-90d0-a16284313bf3')\"\n",
              "              title=\"Convert this dataframe to an interactive table.\"\n",
              "              style=\"display:none;\">\n",
              "        \n",
              "  <svg xmlns=\"http://www.w3.org/2000/svg\" height=\"24px\"viewBox=\"0 0 24 24\"\n",
              "       width=\"24px\">\n",
              "    <path d=\"M0 0h24v24H0V0z\" fill=\"none\"/>\n",
              "    <path d=\"M18.56 5.44l.94 2.06.94-2.06 2.06-.94-2.06-.94-.94-2.06-.94 2.06-2.06.94zm-11 1L8.5 8.5l.94-2.06 2.06-.94-2.06-.94L8.5 2.5l-.94 2.06-2.06.94zm10 10l.94 2.06.94-2.06 2.06-.94-2.06-.94-.94-2.06-.94 2.06-2.06.94z\"/><path d=\"M17.41 7.96l-1.37-1.37c-.4-.4-.92-.59-1.43-.59-.52 0-1.04.2-1.43.59L10.3 9.45l-7.72 7.72c-.78.78-.78 2.05 0 2.83L4 21.41c.39.39.9.59 1.41.59.51 0 1.02-.2 1.41-.59l7.78-7.78 2.81-2.81c.8-.78.8-2.07 0-2.86zM5.41 20L4 18.59l7.72-7.72 1.47 1.35L5.41 20z\"/>\n",
              "  </svg>\n",
              "      </button>\n",
              "      \n",
              "  <style>\n",
              "    .colab-df-container {\n",
              "      display:flex;\n",
              "      flex-wrap:wrap;\n",
              "      gap: 12px;\n",
              "    }\n",
              "\n",
              "    .colab-df-convert {\n",
              "      background-color: #E8F0FE;\n",
              "      border: none;\n",
              "      border-radius: 50%;\n",
              "      cursor: pointer;\n",
              "      display: none;\n",
              "      fill: #1967D2;\n",
              "      height: 32px;\n",
              "      padding: 0 0 0 0;\n",
              "      width: 32px;\n",
              "    }\n",
              "\n",
              "    .colab-df-convert:hover {\n",
              "      background-color: #E2EBFA;\n",
              "      box-shadow: 0px 1px 2px rgba(60, 64, 67, 0.3), 0px 1px 3px 1px rgba(60, 64, 67, 0.15);\n",
              "      fill: #174EA6;\n",
              "    }\n",
              "\n",
              "    [theme=dark] .colab-df-convert {\n",
              "      background-color: #3B4455;\n",
              "      fill: #D2E3FC;\n",
              "    }\n",
              "\n",
              "    [theme=dark] .colab-df-convert:hover {\n",
              "      background-color: #434B5C;\n",
              "      box-shadow: 0px 1px 3px 1px rgba(0, 0, 0, 0.15);\n",
              "      filter: drop-shadow(0px 1px 2px rgba(0, 0, 0, 0.3));\n",
              "      fill: #FFFFFF;\n",
              "    }\n",
              "  </style>\n",
              "\n",
              "      <script>\n",
              "        const buttonEl =\n",
              "          document.querySelector('#df-4fb604df-51f4-4a29-90d0-a16284313bf3 button.colab-df-convert');\n",
              "        buttonEl.style.display =\n",
              "          google.colab.kernel.accessAllowed ? 'block' : 'none';\n",
              "\n",
              "        async function convertToInteractive(key) {\n",
              "          const element = document.querySelector('#df-4fb604df-51f4-4a29-90d0-a16284313bf3');\n",
              "          const dataTable =\n",
              "            await google.colab.kernel.invokeFunction('convertToInteractive',\n",
              "                                                     [key], {});\n",
              "          if (!dataTable) return;\n",
              "\n",
              "          const docLinkHtml = 'Like what you see? Visit the ' +\n",
              "            '<a target=\"_blank\" href=https://colab.research.google.com/notebooks/data_table.ipynb>data table notebook</a>'\n",
              "            + ' to learn more about interactive tables.';\n",
              "          element.innerHTML = '';\n",
              "          dataTable['output_type'] = 'display_data';\n",
              "          await google.colab.output.renderOutput(dataTable, element);\n",
              "          const docLink = document.createElement('div');\n",
              "          docLink.innerHTML = docLinkHtml;\n",
              "          element.appendChild(docLink);\n",
              "        }\n",
              "      </script>\n",
              "    </div>\n",
              "  </div>\n",
              "  "
            ],
            "text/plain": [
              "                                                     En  \\\n",
              "1                                     [as, you, say, .]   \n",
              "2     [i, ve, got, so, much, to, do, today, ,, you, ...   \n",
              "3       [let's, see, if, anything, happens, quickly, .]   \n",
              "4                  [this, lift, is, often, breaking, ,]   \n",
              "5               [i, wish, i, had, climbed, the, stairs]   \n",
              "...                                                 ...   \n",
              "5743  [he, is, probably, about, to, be, laid, off, b...   \n",
              "5744           [for, the, plane, moving, like, that, ?]   \n",
              "5745  [it's, way, too, heavy, in, there, ,, and, the...   \n",
              "5746  [it's, obvious, they're, trying, to, keep, the...   \n",
              "5747      [they're, hiding, something, ,, i'm, sure, !]   \n",
              "\n",
              "                                                     Fr  EnCount  FrCount  \n",
              "1                               [comme, vous, dites, .]        4        4  \n",
              "2     [j'ai, tant, à, faire, aujourd'hui, ,, tu, sai...       18       19  \n",
              "3     [attendons, de, voir, si, quelque, chose, se, ...        7       10  \n",
              "4               [cet, ascenseur, se, brise, souvent, ,]        6        6  \n",
              "5            [j'aimerais, avoir, grimpé, l'escalier, .]        7        5  \n",
              "...                                                 ...      ...      ...  \n",
              "5743  [il, est, probablement, sur, le, point, d'être...       12       15  \n",
              "5744               [pour, l'avion, bouge, comme, ça, ?]        7        6  \n",
              "5745  [ça, tangue, beaucoup, trop, là,, et, les, hot...       15       14  \n",
              "5746  [ça, se, voit, qu'elles, essaient, de, garder,...        9        9  \n",
              "5747  [elles, nous, cachent, quelque, chose, j'en, s...        7        9  \n",
              "\n",
              "[5690 rows x 4 columns]"
            ]
          },
          "execution_count": 19,
          "metadata": {},
          "output_type": "execute_result"
        }
      ],
      "source": [
        "df_test = build_dataframe(\n",
        "      en_url = 'https://raw.githubusercontent.com/rbawden/DiaBLa-dataset/master/DiaBLa-corpus/raw-corpus/diabla.en2fr.orig'\n",
        "    , fr_url = 'https://raw.githubusercontent.com/rbawden/DiaBLa-dataset/master/DiaBLa-corpus/raw-corpus/diabla.fr2en.orig'\n",
        ")\n",
        "\n",
        "df_test"
      ]
    },
    {
      "cell_type": "code",
      "execution_count": 20,
      "metadata": {
        "colab": {
          "base_uri": "https://localhost:8080/"
        },
        "id": "fbyzY4-srkH6",
        "outputId": "ddaf1f0d-9ea3-4e59-8a6c-57b3b063400d"
      },
      "outputs": [
        {
          "data": {
            "text/plain": [
              "((5690, 46), (5690, 73))"
            ]
          },
          "execution_count": 20,
          "metadata": {},
          "output_type": "execute_result"
        }
      ],
      "source": [
        "en_test = build_data(df_test, 'En', en_tokens)\n",
        "fr_test = build_data(df_test, 'Fr', fr_tokens)\n",
        "\n",
        "en_test.shape, fr_test.shape"
      ]
    },
    {
      "attachments": {},
      "cell_type": "markdown",
      "metadata": {},
      "source": [
        "### Using our models to translate the new text and using cosine similarity as an accuray metric we see that we have relatively promising results. However looking further into our results will give us a better idea of the performance."
      ]
    },
    {
      "cell_type": "code",
      "execution_count": 22,
      "metadata": {
        "colab": {
          "base_uri": "https://localhost:8080/"
        },
        "id": "tiE66QmbOonk",
        "outputId": "4291cff7-ec21-439d-9e2c-3fba810dfc07"
      },
      "outputs": [
        {
          "name": "stderr",
          "output_type": "stream",
          "text": [
            "WARNING:tensorflow:5 out of the last 5 calls to <function Model.make_predict_function.<locals>.predict_function at 0x7f6737ffaa60> triggered tf.function retracing. Tracing is expensive and the excessive number of tracings could be due to (1) creating @tf.function repeatedly in a loop, (2) passing tensors with different shapes, (3) passing Python objects instead of tensors. For (1), please define your @tf.function outside of the loop. For (2), @tf.function has reduce_retracing=True option that can avoid unnecessary retracing. For (3), please refer to https://www.tensorflow.org/guide/function#controlling_retracing and https://www.tensorflow.org/api_docs/python/tf/function for  more details.\n"
          ]
        },
        {
          "data": {
            "text/plain": [
              "0.9735160858101196"
            ]
          },
          "execution_count": 22,
          "metadata": {},
          "output_type": "execute_result"
        }
      ],
      "source": [
        "pred_en_fr = model_en_fr.predict(en_test, verbose = False)\n",
        "similarity_en_fr = 0\n",
        "\n",
        "for i in range(en_test.shape[0]):\n",
        "    fr_pred = np.argmax(pred_en_fr[i], axis = 1)\n",
        "    similarity_en_fr += get_similarity(fr_pred, fr_test[i])\n",
        "similarity_en_fr = similarity_en_fr / en_test.shape[0]\n",
        "\n",
        "similarity_en_fr"
      ]
    },
    {
      "cell_type": "code",
      "execution_count": 23,
      "metadata": {
        "colab": {
          "base_uri": "https://localhost:8080/"
        },
        "id": "a2lcZ0bZOzCd",
        "outputId": "311ccef8-9abd-4acc-e9e8-b723607d8d48"
      },
      "outputs": [
        {
          "data": {
            "text/plain": [
              "0.9296233995398684"
            ]
          },
          "execution_count": 23,
          "metadata": {},
          "output_type": "execute_result"
        }
      ],
      "source": [
        "pred_fr_en = model_fr_en.predict(fr_test, verbose = False)\n",
        "similarity_fr_en = 0\n",
        "\n",
        "for i in range(fr_test.shape[0]):\n",
        "    en_pred = np.argmax(pred_fr_en[i], axis = 1)\n",
        "    similarity_fr_en += get_similarity(en_pred, en_test[i])\n",
        "similarity_fr_en = similarity_fr_en / fr_test.shape[0]\n",
        "\n",
        "similarity_fr_en"
      ]
    },
    {
      "attachments": {},
      "cell_type": "markdown",
      "metadata": {},
      "source": [
        "### If we look at individual translations, we can see that the generated text is often nonsensical, but also that many of the words in our test data are outside of the vocabulary of our models. This comes back to the limited vocabulary of our training data. \n",
        "\n",
        "### In order to get better results with more real word data we would want to expand the scope of our training data's vocabulary."
      ]
    },
    {
      "cell_type": "code",
      "execution_count": 25,
      "metadata": {
        "id": "sPnz-M2KRJH2"
      },
      "outputs": [],
      "source": [
        "i_test = np.random.randint(0, df_test.shape[0])"
      ]
    },
    {
      "cell_type": "code",
      "execution_count": 26,
      "metadata": {
        "colab": {
          "base_uri": "https://localhost:8080/"
        },
        "id": "auwwykcH8HaN",
        "outputId": "2ca5ab89-dc89-4f3b-f82a-2a63617dcc0a"
      },
      "outputs": [
        {
          "name": "stdout",
          "output_type": "stream",
          "text": [
            "1/1 [==============================] - 0s 64ms/step\n",
            "Pred: i we going to the football field ?\n",
            "Test: i like it when __OOV__ __OOV__ __OOV__ the __OOV__ . __OOV__ you do that ?\n",
            "94.7162% ** Similarity includes padding. Short sentences may have slightly inflated scores. **\n"
          ]
        }
      ],
      "source": [
        "test3_en = show_prediction(\n",
        "      model = model_fr_en\n",
        "    , x_test = fr_test[i_test: i_test + 1]\n",
        "    , y_tokens = en_tokens\n",
        "    , y_test = en_test[i_test]\n",
        ")"
      ]
    },
    {
      "cell_type": "code",
      "execution_count": 27,
      "metadata": {
        "colab": {
          "base_uri": "https://localhost:8080/"
        },
        "id": "8wf1QiJn8HG8",
        "outputId": "26702564-2b60-4ff1-c295-b9fa57f15646"
      },
      "outputs": [
        {
          "name": "stdout",
          "output_type": "stream",
          "text": [
            "1/1 [==============================] - 0s 26ms/step\n",
            "Pred: j'aime le pamplemousse et les citrons .\n",
            "Test: j'aime quand il __OOV__ a du __OOV__ __OOV__ du __OOV__ .\n",
            "98.5392% ** Similarity includes padding. Short sentences may have slightly inflated scores. **\n"
          ]
        }
      ],
      "source": [
        "test3_fr = show_prediction(\n",
        "      model = model_en_fr\n",
        "    , x_test = en_test[i_test: i_test + 1]\n",
        "    , y_tokens = fr_tokens\n",
        "    , y_test = fr_test[i_test]\n",
        ")"
      ]
    },
    {
      "cell_type": "code",
      "execution_count": 28,
      "metadata": {
        "colab": {
          "base_uri": "https://localhost:8080/"
        },
        "id": "ASWwMURZ8HDe",
        "outputId": "98c1f51b-b161-4c8e-b88e-4fd06ab844fd"
      },
      "outputs": [
        {
          "name": "stdout",
          "output_type": "stream",
          "text": [
            "1/1 [==============================] - 0s 21ms/step\n",
            "Pred: i like grapefruit and lemons .\n",
            "Test: i like it when __OOV__ __OOV__ __OOV__ the __OOV__ . __OOV__ you do that ?\n",
            "96.7224% ** Similarity includes padding. Short sentences may have slightly inflated scores. **\n"
          ]
        }
      ],
      "source": [
        "test4_en = show_prediction(\n",
        "      model = model_fr_en\n",
        "    , x_test = np.array([test3_fr])\n",
        "    , y_tokens = en_tokens\n",
        "    , y_test = en_test[i_test]\n",
        ")"
      ]
    },
    {
      "cell_type": "code",
      "execution_count": 29,
      "metadata": {
        "colab": {
          "base_uri": "https://localhost:8080/"
        },
        "id": "gIuyAx3X8G7y",
        "outputId": "831fd4ff-e3af-4671-ae58-a6c72ff8f28b"
      },
      "outputs": [
        {
          "name": "stdout",
          "output_type": "stream",
          "text": [
            "1/1 [==============================] - 0s 18ms/step\n",
            "Pred: elle est le le __OOV__ __OOV__ de\n",
            "Test: j'aime quand il __OOV__ a du __OOV__ __OOV__ du __OOV__ .\n",
            "98.3887% ** Similarity includes padding. Short sentences may have slightly inflated scores. **\n"
          ]
        }
      ],
      "source": [
        "test4_fr = show_prediction(\n",
        "      model = model_en_fr\n",
        "    , x_test = np.array([test3_en])\n",
        "    , y_tokens = fr_tokens\n",
        "    , y_test = fr_test[i_test]\n",
        ")"
      ]
    }
  ],
  "metadata": {
    "accelerator": "GPU",
    "colab": {
      "provenance": []
    },
    "gpuClass": "standard",
    "kernelspec": {
      "display_name": "Python 3",
      "name": "python3"
    },
    "language_info": {
      "name": "python"
    }
  },
  "nbformat": 4,
  "nbformat_minor": 0
}
